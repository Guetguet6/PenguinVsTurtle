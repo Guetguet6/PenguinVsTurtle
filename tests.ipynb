{
 "cells": [
  {
   "cell_type": "code",
   "execution_count": 1,
   "id": "initial_id",
   "metadata": {
    "collapsed": true,
    "ExecuteTime": {
     "end_time": "2024-03-09T19:29:34.700583Z",
     "start_time": "2024-03-09T19:29:33.949066Z"
    }
   },
   "outputs": [],
   "source": [
    "import pandas as pd"
   ]
  },
  {
   "cell_type": "code",
   "outputs": [],
   "source": [
    "df = pd.read_json('train_annotations.json')"
   ],
   "metadata": {
    "collapsed": false,
    "ExecuteTime": {
     "end_time": "2024-03-09T19:29:34.728820Z",
     "start_time": "2024-03-09T19:29:34.701584Z"
    }
   },
   "id": "a9b9feefaf8fc3c",
   "execution_count": 2
  },
  {
   "cell_type": "code",
   "outputs": [
    {
     "data": {
      "text/plain": "   id  image_id  category_id                  bbox    area segmentation  \\\n0   0         0            1   [119, 25, 205, 606]  124230           []   \n1   1         1            1   [131, 82, 327, 440]  143880           []   \n2   2         2            2  [225, 298, 198, 185]   36630           []   \n3   3         3            2  [468, 109, 172, 193]   33196           []   \n4   4         4            1   [14, 242, 611, 154]   94094           []   \n\n   iscrowd  \n0        0  \n1        0  \n2        0  \n3        0  \n4        0  ",
      "text/html": "<div>\n<style scoped>\n    .dataframe tbody tr th:only-of-type {\n        vertical-align: middle;\n    }\n\n    .dataframe tbody tr th {\n        vertical-align: top;\n    }\n\n    .dataframe thead th {\n        text-align: right;\n    }\n</style>\n<table border=\"1\" class=\"dataframe\">\n  <thead>\n    <tr style=\"text-align: right;\">\n      <th></th>\n      <th>id</th>\n      <th>image_id</th>\n      <th>category_id</th>\n      <th>bbox</th>\n      <th>area</th>\n      <th>segmentation</th>\n      <th>iscrowd</th>\n    </tr>\n  </thead>\n  <tbody>\n    <tr>\n      <th>0</th>\n      <td>0</td>\n      <td>0</td>\n      <td>1</td>\n      <td>[119, 25, 205, 606]</td>\n      <td>124230</td>\n      <td>[]</td>\n      <td>0</td>\n    </tr>\n    <tr>\n      <th>1</th>\n      <td>1</td>\n      <td>1</td>\n      <td>1</td>\n      <td>[131, 82, 327, 440]</td>\n      <td>143880</td>\n      <td>[]</td>\n      <td>0</td>\n    </tr>\n    <tr>\n      <th>2</th>\n      <td>2</td>\n      <td>2</td>\n      <td>2</td>\n      <td>[225, 298, 198, 185]</td>\n      <td>36630</td>\n      <td>[]</td>\n      <td>0</td>\n    </tr>\n    <tr>\n      <th>3</th>\n      <td>3</td>\n      <td>3</td>\n      <td>2</td>\n      <td>[468, 109, 172, 193]</td>\n      <td>33196</td>\n      <td>[]</td>\n      <td>0</td>\n    </tr>\n    <tr>\n      <th>4</th>\n      <td>4</td>\n      <td>4</td>\n      <td>1</td>\n      <td>[14, 242, 611, 154]</td>\n      <td>94094</td>\n      <td>[]</td>\n      <td>0</td>\n    </tr>\n  </tbody>\n</table>\n</div>"
     },
     "execution_count": 3,
     "metadata": {},
     "output_type": "execute_result"
    }
   ],
   "source": [
    "df.head()"
   ],
   "metadata": {
    "collapsed": false,
    "ExecuteTime": {
     "end_time": "2024-03-09T19:29:37.965138Z",
     "start_time": "2024-03-09T19:29:37.952191Z"
    }
   },
   "id": "83e2133daece966b",
   "execution_count": 3
  },
  {
   "cell_type": "code",
   "outputs": [
    {
     "data": {
      "text/plain": "0"
     },
     "execution_count": 4,
     "metadata": {},
     "output_type": "execute_result"
    }
   ],
   "source": [
    "df.iloc[0, 0]"
   ],
   "metadata": {
    "collapsed": false,
    "ExecuteTime": {
     "end_time": "2024-03-09T19:30:24.938640Z",
     "start_time": "2024-03-09T19:30:24.934303Z"
    }
   },
   "id": "a175ba7f0207d2ea",
   "execution_count": 4
  },
  {
   "cell_type": "code",
   "outputs": [
    {
     "data": {
      "text/plain": "0"
     },
     "execution_count": 5,
     "metadata": {},
     "output_type": "execute_result"
    }
   ],
   "source": [
    "df.iloc[0, 1]"
   ],
   "metadata": {
    "collapsed": false,
    "ExecuteTime": {
     "end_time": "2024-03-09T19:30:30.811654Z",
     "start_time": "2024-03-09T19:30:30.806875Z"
    }
   },
   "id": "530bcce9ab9cee35",
   "execution_count": 5
  },
  {
   "cell_type": "code",
   "outputs": [
    {
     "data": {
      "text/plain": "id                                0\nimage_id                          0\ncategory_id                       1\nbbox            [119, 25, 205, 606]\narea                         124230\nsegmentation                     []\niscrowd                           0\nName: 0, dtype: object"
     },
     "execution_count": 6,
     "metadata": {},
     "output_type": "execute_result"
    }
   ],
   "source": [
    "df.iloc[0]"
   ],
   "metadata": {
    "collapsed": false,
    "ExecuteTime": {
     "end_time": "2024-03-09T19:30:43.770256Z",
     "start_time": "2024-03-09T19:30:43.765045Z"
    }
   },
   "id": "b0c44377ece5b42e",
   "execution_count": 6
  },
  {
   "cell_type": "code",
   "outputs": [
    {
     "data": {
      "text/plain": "[119, 25, 205, 606]"
     },
     "execution_count": 8,
     "metadata": {},
     "output_type": "execute_result"
    }
   ],
   "source": [
    "df.iloc[0]['image_id']"
   ],
   "metadata": {
    "collapsed": false,
    "ExecuteTime": {
     "end_time": "2024-03-09T19:31:01.200032Z",
     "start_time": "2024-03-09T19:31:01.195435Z"
    }
   },
   "id": "ab3e089e96567fbf",
   "execution_count": 8
  },
  {
   "cell_type": "code",
   "outputs": [],
   "source": [],
   "metadata": {
    "collapsed": false
   },
   "id": "e20f92ad24d6d3cb"
  }
 ],
 "metadata": {
  "kernelspec": {
   "display_name": "Python 3",
   "language": "python",
   "name": "python3"
  },
  "language_info": {
   "codemirror_mode": {
    "name": "ipython",
    "version": 2
   },
   "file_extension": ".py",
   "mimetype": "text/x-python",
   "name": "python",
   "nbconvert_exporter": "python",
   "pygments_lexer": "ipython2",
   "version": "2.7.6"
  }
 },
 "nbformat": 4,
 "nbformat_minor": 5
}
