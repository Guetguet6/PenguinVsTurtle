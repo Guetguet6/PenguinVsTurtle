{
  "cells": [
    {
      "cell_type": "markdown",
      "metadata": {
        "id": "eXInxjap-CoH"
      },
      "source": [
        "# TP6 - Entrainement Vision Transformer (ViT)"
      ]
    },
    {
      "cell_type": "markdown",
      "metadata": {
        "id": "mKm-P6T-ZsYp"
      },
      "source": [
        "## Introduction"
      ]
    },
    {
      "cell_type": "markdown",
      "metadata": {
        "id": "JDaWpMSVAINU"
      },
      "source": [
        "Dans le TP précédent vous avez pu concevoir étape par étape le réseau ViT à l'aide de PyTorch, il est à présent temps de l'entrainer ! L'objectif du réseau va être de reconnaitre des chiffres du dataset MNIST (l'image utilisée dans les TP4 et TP5 était tirée de ce jeu de données !). **Pensez à utiliser la documentation PyTorch en parallèle des exercices !**"
      ]
    },
    {
      "cell_type": "code",
      "execution_count": null,
      "metadata": {
        "id": "xSvanAuGWVJW"
      },
      "outputs": [],
      "source": [
        "import torch # https://pytorch.org/docs/stable/index.html\n",
        "import torchvision # https://pytorch.org/vision/stable/index.html"
      ]
    },
    {
      "cell_type": "markdown",
      "metadata": {
        "id": "CDmQhzn4yBUI"
      },
      "source": [
        "Il est en général bien plus rapide d'entrainer un modèle sur GPU (`cuda`) plutôt que sur CPU. Le code suivant va automatiquement choisir quel processeur sera utilisé, selon la présence d'une carte graphique dans votre PC et votre installation PyTorch. Plus tard, plusieurs appels à `.to(device)` seront effectués afin de placer les données et le modèle sur le bon processeur."
      ]
    },
    {
      "cell_type": "code",
      "execution_count": null,
      "metadata": {
        "colab": {
          "base_uri": "https://localhost:8080/"
        },
        "id": "UZzsf-ZRyBUJ",
        "outputId": "73d16705-ca1e-4100-fdce-562ade909079"
      },
      "outputs": [
        {
          "output_type": "stream",
          "name": "stdout",
          "text": [
            "cuda\n"
          ]
        }
      ],
      "source": [
        "device = torch.device(\"cuda\" if torch.cuda.is_available() else \"cpu\")\n",
        "print(device)"
      ]
    },
    {
      "cell_type": "markdown",
      "metadata": {
        "id": "OXAD1-67Z0K3"
      },
      "source": [
        "## Exercices"
      ]
    },
    {
      "cell_type": "markdown",
      "metadata": {
        "id": "vFtx3nMvyBUL"
      },
      "source": [
        "Cette fois-ci, plutôt que de charger une seule image, nous allons utiliser l'ensemble du jeu de données (plus vous avez de données, meilleur sera votre réseau !). Certains *datasets* très connus et utilisés en *Machine Learning* sont directement disponibles à partir de la bibliothèque `torchvision` (liste de l'ensemble des *datasets* disponibles : https://pytorch.org/vision/0.15/datasets.html). C'est le cas de MNIST sur lequel le réseau va ici être entrainé : https://pytorch.org/vision/0.15/generated/torchvision.datasets.MNIST.html"
      ]
    },
    {
      "cell_type": "markdown",
      "metadata": {
        "id": "m_jflNleyBUL"
      },
      "source": [
        "**Exercice 1 :** Avant de télécharger le jeu de données, créez une composition de transformations (`torchvision.transforms.Compose`) avec `transforms.ToTensor` et `transforms.Normalize` (on fixe la moyenne et l'écart type à `0.5`), puis stockez le résultat dans la variable `transform`."
      ]
    },
    {
      "cell_type": "code",
      "execution_count": null,
      "metadata": {
        "colab": {
          "base_uri": "https://localhost:8080/"
        },
        "id": "zEpZAzcIg7Km",
        "outputId": "281a285e-eb29-4e94-908d-c2558e6eb6c0"
      },
      "outputs": [
        {
          "output_type": "stream",
          "name": "stdout",
          "text": [
            "Compose(\n",
            "    ToTensor()\n",
            "    Normalize(mean=0.5, std=0.5)\n",
            ")\n"
          ]
        }
      ],
      "source": [
        "transform = torchvision.transforms.Compose([torchvision.transforms.ToTensor(), torchvision.transforms.Normalize(mean=0.5, std=0.5)])\n",
        "print(transform)"
      ]
    },
    {
      "cell_type": "code",
      "execution_count": null,
      "metadata": {
        "id": "2lt8gF1UyBUN"
      },
      "outputs": [],
      "source": [
        "# transform =\n",
        "# print(transform)"
      ]
    },
    {
      "cell_type": "markdown",
      "metadata": {
        "id": "XFAQ-oReyBUO"
      },
      "source": [
        "Ces transformations vont tout simplement permettre de transformer automatiquement les images en tenseurs, et de normaliser les valeurs à une même échelle afin d'améliorer la performance finale du réseau. Il s'agit d'une étape de pré-traitement (*preprocessing*) des données classique en *Machine Learning*."
      ]
    },
    {
      "cell_type": "markdown",
      "metadata": {
        "id": "OuHZ7K2eyBUO"
      },
      "source": [
        "Il est désormais possible de télécharger le *dataset* MNIST et d'y appliquer les transformations choisies. Notez bien qu'ici nous n'avons pas 1 mais 2 jeux de données : `train_dataset` et `test_dataset`.\n",
        "- Le premier est celui sur lequel le réseau va être entrainé et donc apprendre à reconnaitre les chiffres.\n",
        "- Le deuxième, qui ne contient **AUCUN** élément en commun avec le premier, est celui sur lequel le réseau va être testé en dehors de la phase d'entrainement. Ce 2e *dataset* est primordial afin de s'assurer que le réseau n'a pas appris par coeur les images de `train_dataset`, et parvient donc à généraliser la classification à n'importe quelle image de chiffre MNIST."
      ]
    },
    {
      "cell_type": "markdown",
      "metadata": {
        "id": "kQNm7Q8kyBUP"
      },
      "source": [
        "Si nous utilisions des données \"non officielles\" (par exemple un dossier contenant des milliers d'images) il aurait fallu s'arranger pour les répartir à la main en 2 jeux de données distincts. Mais ici, l'utilisation d'un jeu de données disponible dans `torchvision` permet de faciliter les choses, car il suffit de fixer le paramètre `train` à `True` pour le jeu d'entrainement, et à `False` pour le jeu de test. Notez que le nombre d'images pour l'entrainement est largement supérieur à celui pour la partie test (en général une répartition ~ 80% / 20% est préconisée)."
      ]
    },
    {
      "cell_type": "code",
      "execution_count": null,
      "metadata": {
        "colab": {
          "base_uri": "https://localhost:8080/"
        },
        "id": "fSygmcz5yBUP",
        "outputId": "6479132a-bcf0-46b1-9327-bf23c6e8418c"
      },
      "outputs": [
        {
          "output_type": "stream",
          "name": "stdout",
          "text": [
            "Downloading http://yann.lecun.com/exdb/mnist/train-images-idx3-ubyte.gz\n",
            "Downloading http://yann.lecun.com/exdb/mnist/train-images-idx3-ubyte.gz to ./data/MNIST/raw/train-images-idx3-ubyte.gz\n"
          ]
        },
        {
          "output_type": "stream",
          "name": "stderr",
          "text": [
            "100%|██████████| 9912422/9912422 [00:00<00:00, 81618624.72it/s]\n"
          ]
        },
        {
          "output_type": "stream",
          "name": "stdout",
          "text": [
            "Extracting ./data/MNIST/raw/train-images-idx3-ubyte.gz to ./data/MNIST/raw\n",
            "\n",
            "Downloading http://yann.lecun.com/exdb/mnist/train-labels-idx1-ubyte.gz\n",
            "Downloading http://yann.lecun.com/exdb/mnist/train-labels-idx1-ubyte.gz to ./data/MNIST/raw/train-labels-idx1-ubyte.gz\n"
          ]
        },
        {
          "output_type": "stream",
          "name": "stderr",
          "text": [
            "100%|██████████| 28881/28881 [00:00<00:00, 116030358.07it/s]\n"
          ]
        },
        {
          "output_type": "stream",
          "name": "stdout",
          "text": [
            "Extracting ./data/MNIST/raw/train-labels-idx1-ubyte.gz to ./data/MNIST/raw\n",
            "\n",
            "Downloading http://yann.lecun.com/exdb/mnist/t10k-images-idx3-ubyte.gz\n",
            "Downloading http://yann.lecun.com/exdb/mnist/t10k-images-idx3-ubyte.gz to ./data/MNIST/raw/t10k-images-idx3-ubyte.gz\n"
          ]
        },
        {
          "output_type": "stream",
          "name": "stderr",
          "text": [
            "100%|██████████| 1648877/1648877 [00:00<00:00, 27076334.05it/s]\n"
          ]
        },
        {
          "output_type": "stream",
          "name": "stdout",
          "text": [
            "Extracting ./data/MNIST/raw/t10k-images-idx3-ubyte.gz to ./data/MNIST/raw\n",
            "\n",
            "Downloading http://yann.lecun.com/exdb/mnist/t10k-labels-idx1-ubyte.gz\n",
            "Downloading http://yann.lecun.com/exdb/mnist/t10k-labels-idx1-ubyte.gz to ./data/MNIST/raw/t10k-labels-idx1-ubyte.gz\n"
          ]
        },
        {
          "output_type": "stream",
          "name": "stderr",
          "text": [
            "100%|██████████| 4542/4542 [00:00<00:00, 17055083.95it/s]"
          ]
        },
        {
          "output_type": "stream",
          "name": "stdout",
          "text": [
            "Extracting ./data/MNIST/raw/t10k-labels-idx1-ubyte.gz to ./data/MNIST/raw\n",
            "\n",
            "Number of train images: 60000\n",
            "Number of test images: 10000\n"
          ]
        },
        {
          "output_type": "stream",
          "name": "stderr",
          "text": [
            "\n"
          ]
        }
      ],
      "source": [
        "# Le dataset devrait automatiquement se télécharger en local dans un dossier ./data/\n",
        "train_dataset = torchvision.datasets.MNIST('./data/', download=True, train=True, transform=transform)\n",
        "test_dataset = torchvision.datasets.MNIST('./data/', download=True, train=False, transform=transform)\n",
        "print('Number of train images:', len(train_dataset))\n",
        "print('Number of test images:', len(test_dataset))"
      ]
    },
    {
      "cell_type": "markdown",
      "metadata": {
        "id": "u8J04XvCyBUP"
      },
      "source": [
        "L'objectif est que le réseau puisse voir toutes les images, et ce à de multiples reprises lors de l'entrainement. Il est cependant impossible (entre autres en raison de la puissance de calcul des PC actuels) de donner les 60000 images en une seule fois. Il est par conséquent important de pouvoir itérer sur les données de manière optimisée par petits morceaux (des *batchs*) et de façon aléatoire (on ne veut pas toujours montrer les images dans le même ordre). Pour répondre à cette problématique on utilise un `DataLoader` (https://pytorch.org/docs/stable/data.html#torch.utils.data.DataLoader)."
      ]
    },
    {
      "cell_type": "markdown",
      "metadata": {
        "id": "uQVJyQlLyBUQ"
      },
      "source": [
        "**Exercice 2 :** Créez un `DataLoader` pour le jeu de données d'entrainement, et un autre pour le jeu de données de test. Fixez la taille de *batch* à 32 (le réseau va recevoir 32 images à la fois), et activez le mélange des données (`shuffle`) pour le jeu de données d'entrainement. Stockez le résultat dans les variables `train_dataloader` et `test_dataloader`."
      ]
    },
    {
      "cell_type": "code",
      "execution_count": null,
      "metadata": {
        "colab": {
          "base_uri": "https://localhost:8080/"
        },
        "id": "OSbEjjjwh0hB",
        "outputId": "e0e30f74-4966-4b28-d0dd-f6cc0c218c5b"
      },
      "outputs": [
        {
          "output_type": "stream",
          "name": "stdout",
          "text": [
            "<torch.utils.data.dataloader.DataLoader object at 0x7d2dd96436a0>\n",
            "<torch.utils.data.dataloader.DataLoader object at 0x7d2dd9642740>\n"
          ]
        }
      ],
      "source": [
        "train_dataloader = torch.utils.data.DataLoader(train_dataset, batch_size=32, shuffle=True)\n",
        "test_dataloader = torch.utils.data.DataLoader(test_dataset, batch_size=32, shuffle=True)\n",
        "print(train_dataloader)\n",
        "print(test_dataloader)"
      ]
    },
    {
      "cell_type": "code",
      "execution_count": null,
      "metadata": {
        "id": "vCn6CRJuyBUQ"
      },
      "outputs": [],
      "source": [
        "# train_dataloader =\n",
        "# test_dataloader =\n",
        "# print(train_dataloader)\n",
        "# print(test_dataloader)"
      ]
    },
    {
      "cell_type": "markdown",
      "metadata": {
        "id": "qCDAmagryBUR"
      },
      "source": [
        "Si l'on charge à présent un batch d'exemple, on remarque que chaque donnée contient 2 éléments."
      ]
    },
    {
      "cell_type": "code",
      "execution_count": null,
      "metadata": {
        "colab": {
          "base_uri": "https://localhost:8080/"
        },
        "id": "W2GnOgvpyBUS",
        "outputId": "5626ff77-908d-481b-872e-34d98402bad6"
      },
      "outputs": [
        {
          "output_type": "stream",
          "name": "stdout",
          "text": [
            "2\n"
          ]
        }
      ],
      "source": [
        "examples = enumerate(test_dataloader)\n",
        "batch_idx, data = next(examples)\n",
        "print(len(data))"
      ]
    },
    {
      "cell_type": "markdown",
      "metadata": {
        "id": "7tKl39bMyBUS"
      },
      "source": [
        "La première partie correspond à notre batch d'images."
      ]
    },
    {
      "cell_type": "code",
      "execution_count": null,
      "metadata": {
        "colab": {
          "base_uri": "https://localhost:8080/"
        },
        "id": "3vnlzuiLyBUS",
        "outputId": "5ed0444c-ab30-4bfe-f2cd-eee0e3871613"
      },
      "outputs": [
        {
          "output_type": "stream",
          "name": "stdout",
          "text": [
            "Images: torch.Size([32, 1, 28, 28])\n",
            "Batch(s): 32\n",
            "Channel(s): 1\n",
            "Height: 28\n",
            "Width: 28\n"
          ]
        }
      ],
      "source": [
        "print('Images:', data[0].shape)\n",
        "b, c, h, w = data[0].shape\n",
        "print('Batch(s):', b) # 32 images traitées à la fois\n",
        "print('Channel(s):', c) # 1 seul canal de couleur car c'est une image en noir et blanc (3 canaux si c'était une image RGB)\n",
        "print('Height:', h) # 28 pixels de hauteur\n",
        "print('Width:', w) # 28 pixels de largeur"
      ]
    },
    {
      "cell_type": "markdown",
      "metadata": {
        "id": "MlYIXs-byBUT"
      },
      "source": [
        "La deuxième partie correspond à notre batch de labels, c'est-à-dire le chiffre à reconnaitre pour chaque image !"
      ]
    },
    {
      "cell_type": "code",
      "execution_count": null,
      "metadata": {
        "colab": {
          "base_uri": "https://localhost:8080/"
        },
        "id": "L0r1_uHWyBUT",
        "outputId": "52f1b083-64b5-4ecc-ffa8-f2b9f87c3d6d"
      },
      "outputs": [
        {
          "output_type": "stream",
          "name": "stdout",
          "text": [
            "Labels: torch.Size([32])\n",
            "tensor([6, 2, 4, 0, 4, 3, 1, 8, 0, 4, 2, 8, 9, 3, 7, 2, 1, 1, 3, 4, 8, 7, 5, 0,\n",
            "        6, 3, 1, 6, 5, 1, 2, 6])\n"
          ]
        }
      ],
      "source": [
        "print('Labels:', data[1].shape) # 32 labels\n",
        "print(data[1])"
      ]
    },
    {
      "cell_type": "markdown",
      "metadata": {
        "id": "WAgxGUeVyBUT"
      },
      "source": [
        "Et voici un exemple visuel afin de mieux comprendre."
      ]
    },
    {
      "cell_type": "code",
      "execution_count": null,
      "metadata": {
        "colab": {
          "base_uri": "https://localhost:8080/",
          "height": 438
        },
        "id": "yWaatXQNyBUT",
        "outputId": "d9b12566-593b-459b-8622-547679c5d4a1"
      },
      "outputs": [
        {
          "output_type": "display_data",
          "data": {
            "text/plain": [
              "<Figure size 640x480 with 6 Axes>"
            ],
            "image/png": "[encoded data removed]"
          },
          "metadata": {}
        }
      ],
      "source": [
        "import matplotlib.pyplot as plt\n",
        "\n",
        "fig = plt.figure()\n",
        "for i in range(6):\n",
        "    plt.subplot(2, 3, i+1)\n",
        "    plt.tight_layout()\n",
        "    plt.imshow(data[0][i][0], cmap='gray', interpolation='none')\n",
        "    plt.title(f'Label: {data[1][i]}')\n",
        "    plt.xticks([])\n",
        "    plt.yticks([])"
      ]
    },
    {
      "cell_type": "markdown",
      "metadata": {
        "id": "G8p_hKQgyBUU"
      },
      "source": [
        "L'entrainement va donc être effectué de manière supervisée : c'est-à-dire que le réseau va faire une prédiction pour chaque image traitée, prédiction qui va ensuite être comparée au *label*. Les paramètres du réseau vont ensuite être automatiquement mis à jour selon si la prédiction est correcte ou non."
      ]
    },
    {
      "cell_type": "markdown",
      "metadata": {
        "id": "MwbArnUuyBUU"
      },
      "source": [
        "**Exercice 3 :** Copiez vos classes `VisionEncoder` et `ViT` conçues lors du TP5. Comme nous allons entrainer le modèle avec des batchs d'une taille supérieure à 1, il est nécessaire d'effectuer une petite gymnastique au niveau du `class_token` dans le modèle `ViT`. En effet, celui-ci est généré de manière aléatoire dans le `__init__` et doit ensuite être le même pour chaque batch. Utilisez la fonction `expand` (https://pytorch.org/docs/stable/generated/torch.Tensor.expand.html) dans le `forward` afin d'étendre le tenseur sur le nombre correct de batchs (`[32, 1, 512]` au lieu de `[1, 1, 512]`).\n",
        "Deux petites corrections sont à apporter également par rapport à ce qui vous a été indiqué dans le TP précédent :\n",
        "- `fwd_mlp` doit correspondre à `fwd_attention + self.mlp(fwd_norm2)` au lieu de `fwd_norm2 + self.mlp(fwd_norm2)` dans la partie `forward` de `VisionEncoder`\n",
        "- Le `.float()` de `img_torch_reshape` dans la partie `forward` de `ViT` peut être retiré"
      ]
    },
    {
      "cell_type": "code",
      "execution_count": null,
      "metadata": {
        "id": "kaPHvWooyBUU"
      },
      "outputs": [],
      "source": [
        "from TP5_MHA import MultiHeadAttention"
      ]
    },
    {
      "cell_type": "code",
      "execution_count": null,
      "metadata": {
        "id": "kMXdyjwYjydi"
      },
      "outputs": [],
      "source": [
        "from google.colab import drive\n",
        "drive.mount('/content/drive')"
      ]
    },
    {
      "cell_type": "code",
      "execution_count": null,
      "metadata": {
        "id": "eNTttyT9yBUV"
      },
      "outputs": [],
      "source": [
        "class VisionEncoder(torch.nn.Module):\n",
        "    def __init__(self, embed_size, num_heads, hidden_size, dropout):\n",
        "        super(VisionEncoder, self).__init__()\n",
        "\n",
        "        self.embed_size = embed_size\n",
        "        self.num_heads = num_heads\n",
        "        self.hidden_size = hidden_size\n",
        "        self.dropout = dropout\n",
        "\n",
        "        # Première couche : Linear + LayerNorm\n",
        "        self.norm1 = torch.nn.LayerNorm(embed_size)\n",
        "        self.mha = MultiHeadAttention(embed_size, num_heads, dropout)\n",
        "        self.add_norm = torch.nn.Sequential(\n",
        "            torch.nn.Linear(embed_size, hidden_size),\n",
        "            torch.nn.GELU(),\n",
        "            torch.nn.Dropout(dropout),\n",
        "            torch.nn.Linear(hidden_size, embed_size),\n",
        "            torch.nn.Dropout(dropout)\n",
        "        )\n",
        "\n",
        "    def forward(self, x):\n",
        "        # Première couche : Normalisation + Multi-Head Attention + Résiduel\n",
        "        norm1_output = self.norm1(x)\n",
        "        mha_output = self.mha(norm1_output, norm1_output, norm1_output)\n",
        "        add_norm1_output = x + mha_output\n",
        "\n",
        "        # Deuxième couche : Linear + GELU + Dropout + Linear + Dropout + Résiduel\n",
        "        mlp_output = self.add_norm(add_norm1_output)\n",
        "        add_norm2_output = add_norm1_output + mlp_output\n",
        "\n",
        "        return add_norm2_output"
      ]
    },
    {
      "cell_type": "code",
      "execution_count": null,
      "metadata": {
        "id": "z8XxV0lDk9dc"
      },
      "outputs": [],
      "source": [
        "# class ViT(torch.nn.Module):\n",
        "    # ...\n",
        "    # Compléter ici\n",
        "\n",
        "# model = ViT(image_size=28, channel_size=1, patch_size=7, embed_size=512, nb_heads=8, classes=10, nb_layers=3, hidden_size=256, dropout=0.2).to(device)\n",
        "# print(model)"
      ]
    },
    {
      "cell_type": "code",
      "execution_count": null,
      "metadata": {
        "colab": {
          "base_uri": "https://localhost:8080/"
        },
        "id": "7WWsVLIfkm45",
        "outputId": "2cb1feb3-2205-4998-fe0e-540d89e1b236"
      },
      "outputs": [
        {
          "output_type": "stream",
          "name": "stdout",
          "text": [
            "ViT(\n",
            "  (dropout_layer): Dropout(p=0.2, inplace=False)\n",
            "  (embeddings): Linear(in_features=49, out_features=512, bias=True)\n",
            "  (encoders): ModuleList(\n",
            "    (0-2): 3 x VisionEncoder(\n",
            "      (norm1): LayerNorm((512,), eps=1e-05, elementwise_affine=True)\n",
            "      (mha): MultiHeadAttention(\n",
            "        (dropout_layer): Dropout(p=0.2, inplace=False)\n",
            "        (Q): Linear(in_features=512, out_features=512, bias=True)\n",
            "        (K): Linear(in_features=512, out_features=512, bias=True)\n",
            "        (V): Linear(in_features=512, out_features=512, bias=True)\n",
            "        (linear): Linear(in_features=512, out_features=512, bias=True)\n",
            "      )\n",
            "      (add_norm): Sequential(\n",
            "        (0): Linear(in_features=512, out_features=256, bias=True)\n",
            "        (1): GELU(approximate='none')\n",
            "        (2): Dropout(p=0.2, inplace=False)\n",
            "        (3): Linear(in_features=256, out_features=512, bias=True)\n",
            "        (4): Dropout(p=0.2, inplace=False)\n",
            "      )\n",
            "    )\n",
            "  )\n",
            "  (norm): LayerNorm((512,), eps=1e-05, elementwise_affine=True)\n",
            "  (classifier): Linear(in_features=512, out_features=10, bias=True)\n",
            ")\n"
          ]
        }
      ],
      "source": [
        "import torch.nn as nn\n",
        "import torch\n",
        "import torch.nn as nn\n",
        "\n",
        "class ViT(nn.Module):\n",
        "    def __init__(self, image_size, channel_size, patch_size, embed_size, nb_heads, classes, nb_layers, hidden_size, dropout):\n",
        "        super(ViT, self).__init__()\n",
        "\n",
        "        # Paramètres\n",
        "        self.image_size = image_size\n",
        "        self.channel_size = channel_size\n",
        "        self.pixels = image_size ** 2 * channel_size\n",
        "\n",
        "        self.patch_size = patch_size\n",
        "        self.embed_size = embed_size\n",
        "        self.nb_patches = (image_size // patch_size) ** 2\n",
        "        self.pixels_per_patch = channel_size * (patch_size ** 2)\n",
        "        self.nb_heads = nb_heads\n",
        "        self.classes = classes\n",
        "        self.nb_layers = nb_layers\n",
        "        self.hidden_size = hidden_size\n",
        "        self.dropout = dropout\n",
        "        self.dropout_layer = torch.nn.Dropout(p=dropout)\n",
        "\n",
        "        # Projection linéaire\n",
        "        self.embeddings = nn.Linear(self.pixels_per_patch, self.embed_size)\n",
        "\n",
        "        # Class token\n",
        "        self.class_token = nn.Parameter(torch.randn(1,1,embed_size))\n",
        "\n",
        "        # Positional encoding\n",
        "        self.positional_encoding = nn.Parameter(torch.randn(1,self.nb_patches+1,embed_size))\n",
        "\n",
        "        # Layers d'encodage\n",
        "        self.encoders = nn.ModuleList([\n",
        "            VisionEncoder(embed_size, nb_heads, hidden_size, dropout)\n",
        "            for _ in range(nb_layers)\n",
        "        ])\n",
        "\n",
        "        # Classification\n",
        "        self.norm = nn.LayerNorm(embed_size)\n",
        "        self.classifier = nn.Linear(embed_size, classes)\n",
        "\n",
        "    def forward(self, img_torch):\n",
        "        b, c, h, w = img_torch.size()\n",
        "        img_torch_reshape = img_torch.reshape(b, int((h / self.patch_size) * (w / self.patch_size)), c * self.patch_size * self.patch_size)\n",
        "        fwd_embeddings = self.embeddings(img_torch_reshape)\n",
        "\n",
        "        b, n, e = fwd_embeddings.size()\n",
        "        class_tokens = self.class_token.expand(b, 1, e)\n",
        "\n",
        "        concat = torch.cat((fwd_embeddings, class_tokens), dim=1)\n",
        "\n",
        "        fwd_concat = concat + self.positional_encoding\n",
        "\n",
        "        # Layout\n",
        "        fwd_dropout = self.dropout_layer(fwd_concat)\n",
        "\n",
        "        # Layers d'encodage\n",
        "        for encoder in self.encoders:\n",
        "            fwd_dropout = encoder(fwd_dropout)\n",
        "        fwd_encodeurs = fwd_dropout\n",
        "\n",
        "        # Classification\n",
        "        cls_token = fwd_encodeurs[:, -1, :]\n",
        "        cls_token = self.norm(cls_token)\n",
        "        classification = self.classifier(cls_token)\n",
        "        fwd_softmac = torch.nn.functional.log_softmax(classification, dim=1)\n",
        "        return fwd_softmac\n",
        "\n",
        "model = ViT(image_size=28, channel_size=1, patch_size=7, embed_size=512, nb_heads=8, classes=10, nb_layers=3, hidden_size=256, dropout=0.2).to(device)\n",
        "print(model)"
      ]
    },
    {
      "cell_type": "code",
      "execution_count": null,
      "metadata": {
        "id": "ILy0TceFyBUV"
      },
      "outputs": [],
      "source": [
        "# class ViT(torch.nn.Module):\n",
        "    # ...\n",
        "    # Compléter ici\n",
        "\n",
        "# model = ViT(image_size=28, channel_size=1, patch_size=7, embed_size=512, nb_heads=8, classes=10, nb_layers=3, hidden_size=256, dropout=0.2).to(device)\n",
        "# print(model)"
      ]
    },
    {
      "cell_type": "markdown",
      "metadata": {
        "id": "XVeXBwWGyBUW"
      },
      "source": [
        "Notez bien les paramètres utilisés pour le modèle. Notamment `image_size`, `channel_size` et `patch_size` pour le calcul des patchs, de leur nombre de pixels et donc de la taille en entrée du réseau. Egalement le paramètre `classes` permet de fixer le nombre de sorties possibles à `10` pour le réseau (chaque chiffre entre 0 et 9 !)."
      ]
    },
    {
      "cell_type": "markdown",
      "metadata": {
        "id": "-uWDAXw7yBUW"
      },
      "source": [
        "Il est à présent nécessaire d'avoir une méthode afin d'évaluer à quel point le modèle parvient à reconnaitre les chiffres du jeu de données (sa précision !). Pour cela on emploie une fonction objectif (*loss function*) qui va tout simplement sortir une grande valeur quand la prédiction est mauvaise, et à l'inverse une petite valeur si la prédiction est bonne. Là encore, de multiples possibilités sont disponibles directement dans PyTorch selon les besoins (https://pytorch.org/docs/stable/nn.html#loss-functions)."
      ]
    },
    {
      "cell_type": "markdown",
      "metadata": {
        "id": "g8tuYM9FyBUW"
      },
      "source": [
        "**Exercice 4 :** Stockez dans la variable `loss_fct` la fonction objectif `NLLLoss` (aucun paramètre n'est nécessaire). Cette fonction sera ensuite utilisée lors de l'entrainement."
      ]
    },
    {
      "cell_type": "code",
      "execution_count": null,
      "metadata": {
        "colab": {
          "base_uri": "https://localhost:8080/"
        },
        "id": "TODPuuF8zafG",
        "outputId": "65a57feb-8dd9-4012-8f64-9ea7f8b11b79"
      },
      "outputs": [
        {
          "output_type": "stream",
          "name": "stdout",
          "text": [
            "NLLLoss()\n"
          ]
        }
      ],
      "source": [
        "loss_fct = nn.NLLLoss()\n",
        "print(loss_fct)"
      ]
    },
    {
      "cell_type": "code",
      "execution_count": null,
      "metadata": {
        "id": "VTUk_FVAyBUX"
      },
      "outputs": [],
      "source": [
        "# loss_fct =\n",
        "# print(loss_fct)"
      ]
    },
    {
      "cell_type": "markdown",
      "metadata": {
        "id": "o_NXvWwAyBUX"
      },
      "source": [
        "En parallèle, il est également nécessaire d'avoir un algorithme d'optimisation afin de minimiser la fonction objectif que nous venons de définir (pour obtenir la meilleure précision possible !). Pour cela, cette méthode va directement agir sur les paramètres apprenables du modèle en les mettant à jour selon la *loss* (pensez à un technicien qui va progressivement régler une machine afin de produire les meilleurs résultats possibles !). La plupart des méthodes connues sont basées sur l'algorithme de descente de gradient (*gradient descent*), et une fois n'est pas coutume PyTorch nous facilite grandement le travail (https://pytorch.org/docs/stable/optim.html#algorithms)."
      ]
    },
    {
      "cell_type": "markdown",
      "metadata": {
        "id": "HssFILyRyBUX"
      },
      "source": [
        "**Exercice 5 :** Stockez dans la variable `optimizer` l'algorithme `Adam` qui prend en paramètres les paramètres du modèle (`model.parameters()`) et un taux d'apprentissage (*learning rate*) égal à `5e-5` (`0.00005`)."
      ]
    },
    {
      "cell_type": "code",
      "execution_count": null,
      "metadata": {
        "colab": {
          "base_uri": "https://localhost:8080/"
        },
        "id": "q74pgH2Qzg2i",
        "outputId": "dda9d7f2-d365-46d3-b18d-5ac104071866"
      },
      "outputs": [
        {
          "output_type": "stream",
          "name": "stdout",
          "text": [
            "Adam (\n",
            "Parameter Group 0\n",
            "    amsgrad: False\n",
            "    betas: (0.9, 0.999)\n",
            "    capturable: False\n",
            "    differentiable: False\n",
            "    eps: 1e-08\n",
            "    foreach: None\n",
            "    fused: None\n",
            "    lr: 5e-05\n",
            "    maximize: False\n",
            "    weight_decay: 0\n",
            ")\n"
          ]
        }
      ],
      "source": [
        "optimizer = torch.optim.Adam(model.parameters(), lr=0.00005)\n",
        "print(optimizer)"
      ]
    },
    {
      "cell_type": "code",
      "execution_count": null,
      "metadata": {
        "id": "hpQqsGz1yBUX"
      },
      "outputs": [],
      "source": [
        "# optimizer =\n",
        "# print(optimizer)"
      ]
    },
    {
      "cell_type": "markdown",
      "metadata": {
        "id": "w-k45DxYyBUY"
      },
      "source": [
        "Il est à présent temps de concevoir la boucle d'entrainement. Comme décrit précédemment, nous allons itérer sur les données du *DataLoader* à l'aide d'une boucle pour obtenir des *batchs* de données. Chaque *batch* va passer dans le réseau conçu et permettre d'obtenir une prédiction. Cette prédiction va ensuite être comparée à la valeur attendue (*labels*) à l'aide de la fonction objectif (*loss function*). Enfin, l'algorithme d'optimisation va mettre à jour les paramètres du modèle selon les résultats obtenus."
      ]
    },
    {
      "cell_type": "markdown",
      "metadata": {
        "id": "8RiM6tUzyBUY"
      },
      "source": [
        "**Exercice 6 :** Concevez la boucle d'entrainement en complétant les informations manquantes (remplacer les `???` par votre réponse, aidez-vous de la documentation PyTorch !). Assimilez également les différents éléments utilisés et décrits en commentaires. L'entrainement en lui-même peut prendre plusieurs dizaines de minutes selon la puissance du CPU ou GPU utilisé (conseil : importez le notebook dans Google Colab si vous ne possédez pas de GPU)."
      ]
    },
    {
      "cell_type": "code",
      "source": [
        "# Liste pour conserver les valeurs de loss (rappel : on souhaite minimiser la valeur de loss)\n",
        "losses = []\n",
        "\n",
        "# Liste pour conserver les précisions du modèle (en %)\n",
        "accuracies = []\n",
        "\n",
        "# Ces listes permettront d'afficher les courbes de loss et de précision après l'entrainement\n",
        "\n",
        "# 1 epoch correspond à un passage complet sur l'ensemble des données (les 60000 images !)\n",
        "# Le modèle va donc voir chaque image 10 fois\n",
        "nb_epochs = 15\n",
        "\n",
        "# Boucle permettant de faire nb_epochs passages sur l'ensemble des données\n",
        "for epoch in range(nb_epochs):\n",
        "\n",
        "  # Passage du modèle en mode entrainement (certains paramètres agissent différemment selon si il s'agit de la phase d'entrainement ou d'évaluation)\n",
        "  model.train()\n",
        "\n",
        "  # Récupération de la loss sur l'epoch\n",
        "  epoch_loss = 0\n",
        "\n",
        "  # Liste pour conserver l'ensemble des prédictions faites durant l'epoch actuelle\n",
        "  y_pred = []\n",
        "\n",
        "  # Liste pour conserver l'ensemble des valeurs à prédire durant l'epoch actuelle\n",
        "  y_true = []\n",
        "\n",
        "  # Boucle permettant de parcourir l'ensemble des données du DataLoader (les 60000 images !)\n",
        "  # Chaque itération contient 32 images et labels comme défini lors de la création du DataLoader\n",
        "  for batch_idx, (imgs, labels) in enumerate(train_dataloader):\n",
        "\n",
        "    # Envoi des données sur le processeur choisi (CPU ou GPU)\n",
        "    imgs = imgs.to(device)\n",
        "    labels = labels.to(device)\n",
        "\n",
        "    # Passage du batch d'images dans le modèle ViT conçu\n",
        "    # On obtient les prédictions directement en sortie (shape : [32, 10])\n",
        "    predictions = model(imgs)\n",
        "\n",
        "    # Calcul de la loss sur le batch\n",
        "    loss = loss_fct(predictions, labels)\n",
        "\n",
        "    # Nettoyage des anciens paramètres de mise à jour calculés\n",
        "    optimizer.zero_grad()\n",
        "\n",
        "    # Calcul des paramètres du modèle à mettre à jour (rétropropagation du gradient)\n",
        "    loss.backward()\n",
        "\n",
        "    # Mise à jour des paramètres du modèle\n",
        "    optimizer.step()\n",
        "\n",
        "    # Mise à jour de la loss sur l'epoch\n",
        "    epoch_loss += loss.item()\n",
        "\n",
        "    # La variable contient pour chaque image du batch 10 valeurs\n",
        "    # Chaque valeur correspond à une probabilité pour chacun des chiffres entre 0 et 9\n",
        "    # L'indice de la probabilité la plus forte correspond au chiffre prédit par le réseau !\n",
        "\n",
        "    # On ajoute les prédictions et les valeurs à prédire dans les listes correspondantes\n",
        "    y_pred.extend(torch.argmax(predictions, dim=1).detach().cpu().tolist())\n",
        "    y_true.extend(labels.detach().tolist())\n",
        "\n",
        "  # Ajout de la loss de l'epoch à la liste de l'ensemble des loss\n",
        "  losses.append(epoch_loss)\n",
        "\n",
        "  # Vérification et calcul de la précision du modèle en comparant pour chaque image son label avec la valeur prédite\n",
        "  nb_imgs = len(y_pred)\n",
        "  total_correct = 0\n",
        "  for i in range(nb_imgs):\n",
        "    if y_pred[i] == y_true[i]:\n",
        "      total_correct += 1\n",
        "\n",
        "  accuracy = total_correct * 100 / nb_imgs\n",
        "\n",
        "  # Ajout de la précision à la liste des précisions\n",
        "  accuracies.append(accuracy)\n",
        "\n",
        "  # Affichage des résultats pour l'epoch en cours (loss et précision)\n",
        "  print(\"----------\")\n",
        "  print(\"Epoch:\", epoch)\n",
        "  print(\"Loss:\", epoch_loss)\n",
        "  print(f\"Accuracy: {accuracy} % ({total_correct} / {nb_imgs})\")"
      ],
      "metadata": {
        "colab": {
          "base_uri": "https://localhost:8080/"
        },
        "id": "hmRVLkrxuzR_",
        "outputId": "506d6662-788b-49f2-d547-350068a71536"
      },
      "execution_count": null,
      "outputs": [
        {
          "output_type": "stream",
          "name": "stdout",
          "text": [
            "----------\n",
            "Epoch: 0\n",
            "Loss: 175.75041562924162\n",
            "Accuracy: 96.96666666666667 % (58180 / 60000)\n",
            "----------\n",
            "Epoch: 1\n",
            "Loss: 168.2927456102334\n",
            "Accuracy: 97.055 % (58233 / 60000)\n",
            "----------\n",
            "Epoch: 2\n",
            "Loss: 155.0225410494022\n",
            "Accuracy: 97.29166666666667 % (58375 / 60000)\n",
            "----------\n",
            "Epoch: 3\n",
            "Loss: 147.83811319700908\n",
            "Accuracy: 97.48 % (58488 / 60000)\n",
            "----------\n",
            "Epoch: 4\n",
            "Loss: 133.52435913449153\n",
            "Accuracy: 97.64833333333333 % (58589 / 60000)\n",
            "----------\n",
            "Epoch: 5\n",
            "Loss: 125.60619176819455\n",
            "Accuracy: 97.76666666666667 % (58660 / 60000)\n",
            "----------\n",
            "Epoch: 6\n",
            "Loss: 121.83719390456099\n",
            "Accuracy: 97.88 % (58728 / 60000)\n",
            "----------\n",
            "Epoch: 7\n",
            "Loss: 113.93623785191448\n",
            "Accuracy: 98.00666666666666 % (58804 / 60000)\n",
            "----------\n",
            "Epoch: 8\n",
            "Loss: 103.24538530220161\n",
            "Accuracy: 98.205 % (58923 / 60000)\n",
            "----------\n",
            "Epoch: 9\n",
            "Loss: 106.37168154591927\n",
            "Accuracy: 98.12166666666667 % (58873 / 60000)\n",
            "----------\n",
            "Epoch: 10\n",
            "Loss: 97.41639831391512\n",
            "Accuracy: 98.27 % (58962 / 60000)\n",
            "----------\n",
            "Epoch: 11\n",
            "Loss: 91.46106128243264\n",
            "Accuracy: 98.39833333333333 % (59039 / 60000)\n",
            "----------\n",
            "Epoch: 12\n",
            "Loss: 90.75296662433539\n",
            "Accuracy: 98.36666666666666 % (59020 / 60000)\n",
            "----------\n",
            "Epoch: 13\n",
            "Loss: 84.32227618867182\n",
            "Accuracy: 98.475 % (59085 / 60000)\n",
            "----------\n",
            "Epoch: 14\n",
            "Loss: 83.63416133541614\n",
            "Accuracy: 98.46666666666667 % (59080 / 60000)\n"
          ]
        }
      ]
    },
    {
      "cell_type": "code",
      "execution_count": null,
      "metadata": {
        "id": "u_YVT3HSyBUY"
      },
      "outputs": [],
      "source": [
        "# Liste pour conserver les valeurs de loss (rappel : on souhaite minimiser la valeur de loss)\n",
        "losses = []\n",
        "# Liste pour conserver les précisions du modèle (en %)\n",
        "accuracies = []\n",
        "# Ces listes permettront d'afficher les courbes de loss et de précision après l'entrainement\n",
        "\n",
        "# 1 epoch correspond à un passage complet sur l'ensemble des données (les 60000 images !)\n",
        "# Le modèle va donc voir chaque image 10 fois\n",
        "nb_epochs = 10\n",
        "\n",
        "# Boucle permettant de faire nb_epochs passages sur l'ensemble des données\n",
        "for epoch in range(nb_epochs):\n",
        "    # Passage du modèle en mode entrainement (certains paramètres agissent différemment selon si il s'agit de la phase d'entrainement ou d'évaluation)\n",
        "    model.train() # Compléter ici (indice : c'est une fonction simple sans paramètre)\n",
        "\n",
        "    # Variable pour stocker la valeur de loss sur l'ensemble de l'epoch\n",
        "    epoch_loss = 0\n",
        "\n",
        "    # Liste pour conserver l'ensemble des prédictions faites durant l'epoch actuelle\n",
        "    y_pred = []\n",
        "    # Liste pour conserver l'ensemble des valeurs à prédire durant l'epoch actuelle\n",
        "    y_true = []\n",
        "\n",
        "    # Boucle permettant de parcourir l'ensemble des données du DataLoader (les 60000 images !)\n",
        "    # Chaque itération contient 32 images et labels comme défini lors de la création du DataLoader\n",
        "    for batch_idx, (imgs, labels) in enumerate(train_dataloader):\n",
        "        # Envoi des données sur le processeur choisi (CPU ou GPU)\n",
        "        imgs = imgs.to(device)\n",
        "        labels = labels.to(device)\n",
        "        # Passage du batch d'images dans le modèle ViT conçu\n",
        "        # On obtient les prédictions directement en sortie (shape : [32, 10])\n",
        "        predictions = model(imgs) # Compléter ici (indice : un exemple de passage d'un batch dans le modèle a été donné à la toute fin du TP5)\n",
        "\n",
        "        # Comparaison des prédictions et des labels à l'aide de la fonction objectif\n",
        "        loss = loss_fct(predictions, labels) # Compléter ici (indice : vous avez simplement besoin de la fonction objectif définie plus haut, et de 2 paramètres)\n",
        "\n",
        "        # Nettoyage des anciens paramètres de mise à jour calculés\n",
        "        optimizer.zero_grad()\n",
        "\n",
        "        # Calcul des paramètres du modèle à mettre à jour (retropropagation du gradient)\n",
        "        loss.backward() # Compléter ici (indice : c'est une fonction simple sans paramètre)\n",
        "\n",
        "        # Mise à jour des paramètres du modèle\n",
        "        optimizer.step() # Compléter ici (indice : c'est une fonction simple sans paramètre)\n",
        "\n",
        "        # La variable contient pour chaque image du batch 10 valeurs\n",
        "        # Chaque valeur correspond à une probabilité pour chacun des chiffres entre 0 et 9\n",
        "        # L'indice de la probabilité la plus forte correspond au chiffre prédit par le réseau !\n",
        "        # On ajoute les prédictions et les valeurs à prédire dans les listes correspondantes\n",
        "        y_pred.extend(predictions.detach().cpu().tolist()) # Compléter ici (indice : on veut l'indice de la valeur maximale des éléments du tenseur pour chaque batch, une fonction PyTorch existe pour cela !)\n",
        "        y_true.extend(labels.detach().tolist())\n",
        "\n",
        "        # Ajout de la valeur de loss du batch à la valeur de loss sur l'ensemble de l'epoch\n",
        "        epoch_loss += loss.item()\n",
        "\n",
        "    # Ajout de la loss de l'epoch à la liste de l'ensemble des loss\n",
        "    losses.append(epoch_loss)\n",
        "\n",
        "    # Vérification et calcul de la précision du modèle en comparant pour chaque image son label avec la valeur prédite\n",
        "    nb_imgs = len(y_pred)\n",
        "    total_correct = 0\n",
        "    for i in range(nb_imgs):\n",
        "        if y_pred[i] == y_true[i]:\n",
        "            total_correct += 1\n",
        "    accuracy = total_correct * 100 / nb_imgs\n",
        "\n",
        "    # Ajout de la précision à la liste des précisions\n",
        "    accuracies.append(accuracy)\n",
        "\n",
        "    # Affichage des résultats pour l'epoch en cours (loss et précision)\n",
        "    print(\"----------\")\n",
        "    print(\"Epoch:\", epoch)\n",
        "    print(\"Loss:\", epoch_loss)\n",
        "    print(f\"Accuracy: {accuracy} % ({total_correct} / {nb_imgs})\")"
      ]
    },
    {
      "cell_type": "code",
      "execution_count": null,
      "metadata": {
        "id": "qSJ1TVa65HYt"
      },
      "outputs": [],
      "source": [
        "import torch\n",
        "import torch.nn as nn\n",
        "\n",
        "class ViT(nn.Module):\n",
        "    def __init__(self, image_size, channel_size, patch_size, embed_size, nb_heads, classes, nb_layers, hidden_size, dropout):\n",
        "        super(ViT, self).__init__()\n",
        "\n",
        "        # Paramètres\n",
        "        self.image_size = image_size\n",
        "        self.channel_size = channel_size\n",
        "        self.pixels = image_size ** 2 * channel_size\n",
        "\n",
        "        self.patch_size = patch_size\n",
        "        self.embed_size = embed_size\n",
        "        self.nb_patches = (image_size // patch_size) ** 2\n",
        "        self.pixels_per_patch = channel_size * (patch_size ** 2)\n",
        "        self.nb_heads = nb_heads\n",
        "        self.classes = classes\n",
        "        self.nb_layers = nb_layers\n",
        "        self.hidden_size = hidden_size\n",
        "        self.dropout = dropout\n",
        "        self.dropout_layer = torch.nn.Dropout(p=dropout)\n",
        "\n",
        "        # Projection linéaire\n",
        "        self.embeddings = nn.Linear(self.pixels_per_patch, self.embed_size)\n",
        "\n",
        "        # Class token\n",
        "        self.class_token = nn.Parameter(torch.randn(1,1,embed_size))\n",
        "\n",
        "        # Positional encoding\n",
        "        self.positional_encoding = nn.Parameter(torch.randn(1,self.nb_patches+1,embed_size))\n",
        "\n",
        "        # Layers d'encodage\n",
        "        self.encoders = nn.ModuleList([\n",
        "            VisionEncoder(embed_size, nb_heads, hidden_size, dropout)\n",
        "            for _ in range(nb_layers)\n",
        "        ])\n",
        "\n",
        "        # Classification\n",
        "        self.norm = nn.LayerNorm(embed_size)\n",
        "        self.classifier = nn.Linear(embed_size, classes)\n",
        "\n",
        "    def forward(self, img_torch):\n",
        "        b, c, h, w = img_torch.size()\n",
        "        img_torch_reshape = img_torch.reshape(b, int((h / self.patch_size) * (w / self.patch_size)), c * self.patch_size * self.patch_size).float()\n",
        "        fwd_embeddings = self.embeddings(img_torch_reshape)\n",
        "\n",
        "        b, n, e = fwd_embeddings.size()\n",
        "        class_tokens = self.class_token.expand(b, 1, e)\n",
        "\n",
        "        concat = torch.cat((fwd_embeddings, class_tokens), dim=1)\n",
        "\n",
        "        fwd_concat = concat + self.positional_encoding\n",
        "\n",
        "        # Layout\n",
        "        fwd_dropout = self.dropout_layer(fwd_concat)\n",
        "\n",
        "        # Layers d'encodage\n",
        "        for encoder in self.encoders:\n",
        "            fwd_dropout = encoder(fwd_dropout)\n",
        "\n",
        "        # Classification\n",
        "        cls_token = fwd_dropout[:, 0]\n",
        "        cls_token = self.norm(cls_token)\n",
        "        classification = self.classifier(cls_token)\n",
        "\n",
        "        return classification\n",
        "\n",
        "\n",
        "model = ViT(image_size=28, channel_size=1, patch_size=7, embed_size=512, nb_heads=8, classes=10, nb_layers=3, hidden_size=256, dropout=0.2)\n",
        "#print(model)\n",
        "for batch_idx, (imgs, labels) in enumerate(train_dataloader):\n",
        "    # Envoi des données sur le processeur choisi (CPU ou GPU)\n",
        "    imgs = imgs.to(device)\n",
        "    labels = labels.to(device)\n",
        "    # Passage du batch d'images dans le modèle ViT conçu\n",
        "    # On obtient les prédictions directement en sortie (shape : [32, 10])\n",
        "    #print(imgs.shape)\n",
        "     # Compléter ici (indice : un exemple de passage d'un batch dans le modèle a été donné à la toute fin du TP5)\n",
        "\n",
        "    #print(img_torch.shape)\n",
        "    out = model(img_torch)\n",
        "    print(out.shape)"
      ]
    },
    {
      "cell_type": "markdown",
      "metadata": {
        "id": "alk3_-39yBUZ"
      },
      "source": [
        "A l'issue de la première *epoch* votre modèle devrait déjà parvenir à trouver le chiffre dans environ 75% des cas (ce chiffre peut varier d'un entrainement à l'autre). En poussant l'entrainement sur quelques epochs supplémentaires, il est même possible d'atteindre plus de 97% de précision sur le jeu de données d'entrainement ! Par ailleurs, avec des jeux de données et des problématiques plus complexes, la précision du modèle est généralement beaucoup plus progressive."
      ]
    },
    {
      "cell_type": "markdown",
      "metadata": {
        "id": "X3lwmiGMyBUa"
      },
      "source": [
        "On peut à présent faire un `plot` de la loss pour constater que celle-ci descend bien au fil de l'entrainement."
      ]
    },
    {
      "cell_type": "code",
      "execution_count": null,
      "metadata": {
        "id": "wu1f-bwNyBUa",
        "outputId": "353c01e5-70cc-48df-dc13-b0461e6ff657",
        "colab": {
          "base_uri": "https://localhost:8080/",
          "height": 454
        }
      },
      "outputs": [
        {
          "output_type": "display_data",
          "data": {
            "text/plain": [
              "<Figure size 640x480 with 1 Axes>"
            ],
            "image/png": "[encoded data removed]"
          },
          "metadata": {}
        }
      ],
      "source": [
        "plt.plot(losses)\n",
        "plt.xlabel(\"Epoch\")\n",
        "plt.ylabel(\"Train loss\")\n",
        "plt.show()"
      ]
    },
    {
      "cell_type": "markdown",
      "metadata": {
        "id": "pGtRMKQcyBUa"
      },
      "source": [
        "De même pour la précision qui monte au fil de l'entrainement."
      ]
    },
    {
      "cell_type": "code",
      "execution_count": null,
      "metadata": {
        "outputId": "60c6bf7e-14df-4b4e-fab8-922ccdd2ebe2",
        "colab": {
          "base_uri": "https://localhost:8080/",
          "height": 449
        },
        "id": "5cvwnxFJxQet"
      },
      "outputs": [
        {
          "output_type": "display_data",
          "data": {
            "text/plain": [
              "<Figure size 640x480 with 1 Axes>"
            ],
            "image/png": "[encoded data removed]"
          },
          "metadata": {}
        }
      ],
      "source": [
        "plt.plot(accuracies)\n",
        "plt.xlabel(\"Epoch\")\n",
        "plt.ylabel(\"Train accuracy (%)\")\n",
        "plt.show()"
      ]
    },
    {
      "cell_type": "code",
      "execution_count": null,
      "metadata": {
        "id": "a5TObX-ryBUb",
        "outputId": "33bef512-4f40-48a9-9842-39468645f81f",
        "colab": {
          "base_uri": "https://localhost:8080/",
          "height": 449
        }
      },
      "outputs": [
        {
          "output_type": "display_data",
          "data": {
            "text/plain": [
              "<Figure size 640x480 with 1 Axes>"
            ],
            "image/png": "[encoded data removed]"
          },
          "metadata": {}
        }
      ],
      "source": [
        "plt.plot(accuracies)\n",
        "plt.xlabel(\"Epoch\")\n",
        "plt.ylabel(\"Train accuracy (%)\")\n",
        "plt.show()"
      ]
    },
    {
      "cell_type": "markdown",
      "metadata": {
        "id": "yoahoR9FyBUb"
      },
      "source": [
        "On peut désormais évaluer notre modèle sur les données du DataLoader de test. Etant donné que ce sont des images que le modèle n'a jamais vu durant son entrainement, c'est un bon moyen de vérifier si il parvient à généraliser la reconnaissance de chiffre à n'importe quelle image MNIST !"
      ]
    },
    {
      "cell_type": "markdown",
      "metadata": {
        "id": "12Kzt5QpyBUb"
      },
      "source": [
        "**Exercice 7 :** Concevez la boucle d'évaluation en complétant les informations manquantes (remplacer les `???` par votre réponse, aidez-vous de la documentation PyTorch !). Assimilez également les différents éléments utilisés et décrits en commentaires. Constatez également que l'on ne fait pas appel aux fonctions de mise à jour du modèle ici, on souhaite juste évaluer sa précision réelle."
      ]
    },
    {
      "cell_type": "code",
      "execution_count": null,
      "metadata": {
        "id": "1tIaqMaQyBUc"
      },
      "outputs": [],
      "source": [
        "# Permet de s'assurer qu'aucun paramètre du modèle ne sera mis à jour\n",
        "with torch.no_grad():\n",
        "    # Permet d'avertir le modèle qu'il s'agit de la phase d'évaluation\n",
        "    # Certains paramètres agissent différemment selon si il s'agit de la phase d'entrainement ou d'évaluation\n",
        "    model.??? # Compléter ici (indice : c'est une fonction simple sans paramètre)\n",
        "\n",
        "    # Liste pour conserver l'ensemble des prédictions faites\n",
        "    y_test_pred = []\n",
        "    # Liste pour conserver l'ensemble des valeurs à prédire\n",
        "    y_test_true = []\n",
        "\n",
        "    # Boucle permettant de parcourir l'ensemble des données du DataLoader de test (les 10000 images !)\n",
        "    for batch_idx, (imgs, labels) in enumerate(test_dataloader):\n",
        "        # Envoi des données sur le processeur choisi (CPU ou GPU)\n",
        "        imgs = imgs.to(device)\n",
        "        labels = labels.to(device)\n",
        "\n",
        "        # Passage du batch d'images dans le modèle ViT conçu\n",
        "        # On obtient les prédictions directement en sortie\n",
        "        predictions = ??? # Compléter ici (indice : un exemple de passage d'un batch dans le modèle a été donné à la toute fin du TP5)\n",
        "\n",
        "        # La variable contient pour chaque image du batch 10 valeurs\n",
        "        # Chaque valeur correspond à une probabilité pour chacun des chiffres entre 0 et 9\n",
        "        # L'indice de la probabilité la plus forte correspond au chiffre prédit par le réseau !\n",
        "        # On ajoute les prédictions et les valeurs à prédire dans les listes correspondantes\n",
        "        y_test_pred.extend(predictions.detach().???.tolist()) # Compléter ici (indice : on veut l'indice de la valeur maximale des éléments du tenseur pour chaque batch, une fonction PyTorch existe pour cela !)\n",
        "        y_test_true.extend(labels.detach().tolist())\n",
        "\n",
        "    # Vérification et calcul de la précision du modèle en comparant pour chaque image son label avec la valeur prédite\n",
        "    nb_imgs = len(y_test_pred)\n",
        "    total_correct = 0\n",
        "    for i in range(nb_imgs):\n",
        "        if y_test_pred[i] == y_test_true[i]:\n",
        "            total_correct += 1\n",
        "    accuracy = total_correct * 100 / nb_imgs\n",
        "\n",
        "    # Affichage du résultat de précision sur le jeu de données d'évaluation\n",
        "    print(f\"Evaluation accuracy: {accuracy} % ({total_correct} / {nb_imgs})\")\n"
      ]
    },
    {
      "cell_type": "code",
      "source": [
        "with torch.no_grad():\n",
        "  model.eval()\n",
        "\n",
        "  y_test_pred = []\n",
        "  y_test_true = []\n",
        "\n",
        "  for batch_idx, (imgs, labels) in enumerate(test_dataloader):\n",
        "    imgs = imgs.to(device)\n",
        "    labels = labels.to(device)\n",
        "\n",
        "    predictions = model(imgs)\n",
        "\n",
        "    y_test_pred.extend(predictions.detach().argmax(dim=1).tolist())\n",
        "    y_test_true.extend(labels.detach().tolist())\n",
        "\n",
        "nb_imgs = len(y_test_pred)\n",
        "total_correct = 0\n",
        "for i in range(nb_imgs):\n",
        "  if y_test_pred[i] == y_test_true[i]:\n",
        "    total_correct += 1\n",
        "\n",
        "accuracy = total_correct * 100 / nb_imgs\n",
        "\n",
        "print(f\"Evaluation accuracy: {accuracy} % ({total_correct} / {nb_imgs})\")"
      ],
      "metadata": {
        "colab": {
          "base_uri": "https://localhost:8080/"
        },
        "id": "YpjVrv7P1fHm",
        "outputId": "7ab3577e-b433-4b69-d95c-980197e5bf68"
      },
      "execution_count": null,
      "outputs": [
        {
          "output_type": "stream",
          "name": "stdout",
          "text": [
            "Evaluation accuracy: 98.12 % (9812 / 10000)\n"
          ]
        }
      ]
    },
    {
      "cell_type": "code",
      "source": [
        "torch.save(model.state_dict(), 'tp6-entrainement.pth')"
      ],
      "metadata": {
        "id": "bNhP60NY1uxJ"
      },
      "execution_count": null,
      "outputs": []
    }
  ],
  "metadata": {
    "colab": {
      "provenance": [],
      "gpuType": "T4"
    },
    "kernelspec": {
      "display_name": "Python 3",
      "name": "python3"
    },
    "language_info": {
      "codemirror_mode": {
        "name": "ipython",
        "version": 3
      },
      "file_extension": ".py",
      "mimetype": "text/x-python",
      "name": "python",
      "nbconvert_exporter": "python",
      "pygments_lexer": "ipython3",
      "version": "3.10.12"
    },
    "accelerator": "GPU"
  },
  "nbformat": 4,
  "nbformat_minor": 0
}